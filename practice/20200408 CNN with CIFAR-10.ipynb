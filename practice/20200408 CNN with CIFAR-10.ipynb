{
 "cells": [
  {
   "cell_type": "code",
   "execution_count": 1,
   "metadata": {},
   "outputs": [],
   "source": [
    "import tensorflow as tf\n",
    "import tensorflow_datasets as tfds\n",
    "import numpy as np"
   ]
  },
  {
   "cell_type": "code",
   "execution_count": 3,
   "metadata": {},
   "outputs": [
    {
     "name": "stdout",
     "output_type": "stream",
     "text": [
      "\u001b[1mDownloading and preparing dataset cifar10/3.0.0 (download: 162.17 MiB, generated: Unknown size, total: 162.17 MiB) to /root/tensorflow_datasets/cifar10/3.0.0...\u001b[0m\n"
     ]
    },
    {
     "data": {
      "application/vnd.jupyter.widget-view+json": {
       "model_id": "50d4e0a2c4a04d58abc3cfa1f4d7b8df",
       "version_major": 2,
       "version_minor": 0
      },
      "text/plain": [
       "HBox(children=(FloatProgress(value=1.0, bar_style='info', description='Dl Completed...', max=1.0, style=Progre…"
      ]
     },
     "metadata": {},
     "output_type": "display_data"
    },
    {
     "data": {
      "application/vnd.jupyter.widget-view+json": {
       "model_id": "e4dcf5a76a0c47039eac190d6c871fa7",
       "version_major": 2,
       "version_minor": 0
      },
      "text/plain": [
       "HBox(children=(FloatProgress(value=1.0, bar_style='info', description='Dl Size...', max=1.0, style=ProgressSty…"
      ]
     },
     "metadata": {},
     "output_type": "display_data"
    },
    {
     "data": {
      "application/vnd.jupyter.widget-view+json": {
       "model_id": "724cbfb30da54482877b31e2e08bf684",
       "version_major": 2,
       "version_minor": 0
      },
      "text/plain": [
       "HBox(children=(FloatProgress(value=1.0, bar_style='info', description='Extraction completed...', max=1.0, styl…"
      ]
     },
     "metadata": {},
     "output_type": "display_data"
    },
    {
     "name": "stderr",
     "output_type": "stream",
     "text": [
      "/usr/local/lib/python3.6/dist-packages/urllib3/connectionpool.py:1004: InsecureRequestWarning: Unverified HTTPS request is being made. Adding certificate verification is strongly advised. See: https://urllib3.readthedocs.io/en/latest/advanced-usage.html#ssl-warnings\n",
      "  InsecureRequestWarning,\n"
     ]
    },
    {
     "name": "stdout",
     "output_type": "stream",
     "text": [
      "\n",
      "\n",
      "\n",
      "\n",
      "\n",
      "\n"
     ]
    },
    {
     "data": {
      "application/vnd.jupyter.widget-view+json": {
       "model_id": "",
       "version_major": 2,
       "version_minor": 0
      },
      "text/plain": [
       "HBox(children=(FloatProgress(value=1.0, bar_style='info', max=1.0), HTML(value='')))"
      ]
     },
     "metadata": {},
     "output_type": "display_data"
    },
    {
     "name": "stdout",
     "output_type": "stream",
     "text": [
      "Shuffling and writing examples to /root/tensorflow_datasets/cifar10/3.0.0.incompleteXYRLCR/cifar10-train.tfrecord\n"
     ]
    },
    {
     "data": {
      "application/vnd.jupyter.widget-view+json": {
       "model_id": "dfeebd8187cf46259725ac8ba6673062",
       "version_major": 2,
       "version_minor": 0
      },
      "text/plain": [
       "HBox(children=(FloatProgress(value=0.0, max=50000.0), HTML(value='')))"
      ]
     },
     "metadata": {},
     "output_type": "display_data"
    },
    {
     "data": {
      "application/vnd.jupyter.widget-view+json": {
       "model_id": "",
       "version_major": 2,
       "version_minor": 0
      },
      "text/plain": [
       "HBox(children=(FloatProgress(value=1.0, bar_style='info', max=1.0), HTML(value='')))"
      ]
     },
     "metadata": {},
     "output_type": "display_data"
    },
    {
     "name": "stdout",
     "output_type": "stream",
     "text": [
      "Shuffling and writing examples to /root/tensorflow_datasets/cifar10/3.0.0.incompleteXYRLCR/cifar10-test.tfrecord\n"
     ]
    },
    {
     "data": {
      "application/vnd.jupyter.widget-view+json": {
       "model_id": "b7b426a5099a4c1f98bf69ff291f2d60",
       "version_major": 2,
       "version_minor": 0
      },
      "text/plain": [
       "HBox(children=(FloatProgress(value=0.0, max=10000.0), HTML(value='')))"
      ]
     },
     "metadata": {},
     "output_type": "display_data"
    },
    {
     "name": "stdout",
     "output_type": "stream",
     "text": [
      "\u001b[1mDataset cifar10 downloaded and prepared to /root/tensorflow_datasets/cifar10/3.0.0. Subsequent calls will reuse this data.\u001b[0m\n"
     ]
    }
   ],
   "source": [
    "cifar10_builder = tfds.builder(\"cifar10\")\n",
    "cifar10_builder.download_and_prepare()\n",
    "datasets = cifar10_builder.as_dataset()\n",
    "ds_train, ds_test = datasets['train'], datasets['test']"
   ]
  },
  {
   "cell_type": "code",
   "execution_count": 10,
   "metadata": {},
   "outputs": [],
   "source": [
    "train_images = np.array([data['image'].numpy() for data in ds_train])\n",
    "train_labels = np.array([data['label'] for data in ds_train])\n",
    "test_images = np.array([data['image'].numpy() for data in ds_test])\n",
    "test_labels = np.array([data['label'] for data in ds_test])\n",
    "\n",
    "train_images = train_images / 255\n",
    "test_images = test_images / 255"
   ]
  },
  {
   "cell_type": "code",
   "execution_count": 12,
   "metadata": {},
   "outputs": [
    {
     "name": "stdout",
     "output_type": "stream",
     "text": [
      "Model: \"sequential\"\n",
      "_________________________________________________________________\n",
      "Layer (type)                 Output Shape              Param #   \n",
      "=================================================================\n",
      "conv2d (Conv2D)              (None, 26, 26, 4)         592       \n",
      "_________________________________________________________________\n",
      "max_pooling2d (MaxPooling2D) (None, 13, 13, 4)         0         \n",
      "_________________________________________________________________\n",
      "conv2d_1 (Conv2D)            (None, 10, 10, 8)         520       \n",
      "_________________________________________________________________\n",
      "max_pooling2d_1 (MaxPooling2 (None, 5, 5, 8)           0         \n",
      "_________________________________________________________________\n",
      "conv2d_2 (Conv2D)            (None, 4, 4, 16)          528       \n",
      "_________________________________________________________________\n",
      "max_pooling2d_2 (MaxPooling2 (None, 2, 2, 16)          0         \n",
      "_________________________________________________________________\n",
      "flatten (Flatten)            (None, 64)                0         \n",
      "_________________________________________________________________\n",
      "dense (Dense)                (None, 10)                650       \n",
      "=================================================================\n",
      "Total params: 2,290\n",
      "Trainable params: 2,290\n",
      "Non-trainable params: 0\n",
      "_________________________________________________________________\n",
      "None\n",
      "Train on 50000 samples\n",
      "Epoch 1/100\n",
      "50000/50000 [==============================] - 4s 89us/sample - loss: 1.9350 - accuracy: 0.2974\n",
      "Epoch 2/100\n",
      "50000/50000 [==============================] - 2s 44us/sample - loss: 1.7316 - accuracy: 0.3813\n",
      "Epoch 3/100\n",
      "50000/50000 [==============================] - 2s 45us/sample - loss: 1.6426 - accuracy: 0.4119\n",
      "Epoch 4/100\n",
      "50000/50000 [==============================] - 2s 44us/sample - loss: 1.5847 - accuracy: 0.4322\n",
      "Epoch 5/100\n",
      "50000/50000 [==============================] - 2s 44us/sample - loss: 1.5368 - accuracy: 0.4505\n",
      "Epoch 6/100\n",
      "50000/50000 [==============================] - 2s 45us/sample - loss: 1.5055 - accuracy: 0.4636\n",
      "Epoch 7/100\n",
      "50000/50000 [==============================] - 2s 45us/sample - loss: 1.4759 - accuracy: 0.4769\n",
      "Epoch 8/100\n",
      "50000/50000 [==============================] - 2s 44us/sample - loss: 1.4549 - accuracy: 0.4853\n",
      "Epoch 9/100\n",
      "50000/50000 [==============================] - 2s 45us/sample - loss: 1.4356 - accuracy: 0.4928\n",
      "Epoch 10/100\n",
      "50000/50000 [==============================] - 2s 44us/sample - loss: 1.4202 - accuracy: 0.4968\n",
      "Epoch 11/100\n",
      "50000/50000 [==============================] - 2s 45us/sample - loss: 1.4079 - accuracy: 0.5019\n",
      "Epoch 12/100\n",
      "50000/50000 [==============================] - 2s 45us/sample - loss: 1.3965 - accuracy: 0.5065\n",
      "Epoch 13/100\n",
      "50000/50000 [==============================] - 2s 45us/sample - loss: 1.3838 - accuracy: 0.5107\n",
      "Epoch 14/100\n",
      "50000/50000 [==============================] - 2s 45us/sample - loss: 1.3748 - accuracy: 0.5147\n",
      "Epoch 15/100\n",
      "50000/50000 [==============================] - 2s 45us/sample - loss: 1.3685 - accuracy: 0.5171\n",
      "Epoch 16/100\n",
      "50000/50000 [==============================] - 2s 45us/sample - loss: 1.3576 - accuracy: 0.5216\n",
      "Epoch 17/100\n",
      "50000/50000 [==============================] - 2s 44us/sample - loss: 1.3518 - accuracy: 0.5259\n",
      "Epoch 18/100\n",
      "50000/50000 [==============================] - 2s 44us/sample - loss: 1.3462 - accuracy: 0.5263\n",
      "Epoch 19/100\n",
      "50000/50000 [==============================] - 2s 44us/sample - loss: 1.3419 - accuracy: 0.5292\n",
      "Epoch 20/100\n",
      "50000/50000 [==============================] - 2s 45us/sample - loss: 1.3389 - accuracy: 0.5291\n",
      "Epoch 21/100\n",
      "50000/50000 [==============================] - 2s 45us/sample - loss: 1.3323 - accuracy: 0.5312\n",
      "Epoch 22/100\n",
      "50000/50000 [==============================] - 2s 44us/sample - loss: 1.3278 - accuracy: 0.5329\n",
      "Epoch 23/100\n",
      "50000/50000 [==============================] - 2s 44us/sample - loss: 1.3248 - accuracy: 0.5364\n",
      "Epoch 24/100\n",
      "50000/50000 [==============================] - 2s 45us/sample - loss: 1.3194 - accuracy: 0.5365\n",
      "Epoch 25/100\n",
      "50000/50000 [==============================] - 2s 45us/sample - loss: 1.3160 - accuracy: 0.5394\n",
      "Epoch 26/100\n",
      "50000/50000 [==============================] - 2s 44us/sample - loss: 1.3143 - accuracy: 0.5395\n",
      "Epoch 27/100\n",
      "50000/50000 [==============================] - 2s 44us/sample - loss: 1.3126 - accuracy: 0.5394\n",
      "Epoch 28/100\n",
      "50000/50000 [==============================] - 2s 44us/sample - loss: 1.3082 - accuracy: 0.5411\n",
      "Epoch 29/100\n",
      "50000/50000 [==============================] - 2s 45us/sample - loss: 1.3083 - accuracy: 0.5400\n",
      "Epoch 30/100\n",
      "50000/50000 [==============================] - 2s 45us/sample - loss: 1.3030 - accuracy: 0.5430\n",
      "Epoch 31/100\n",
      "50000/50000 [==============================] - 2s 44us/sample - loss: 1.2987 - accuracy: 0.5470\n",
      "Epoch 32/100\n",
      "50000/50000 [==============================] - 2s 44us/sample - loss: 1.2982 - accuracy: 0.5466\n",
      "Epoch 33/100\n",
      "50000/50000 [==============================] - 2s 44us/sample - loss: 1.2971 - accuracy: 0.5461\n",
      "Epoch 34/100\n",
      "50000/50000 [==============================] - 2s 43us/sample - loss: 1.2938 - accuracy: 0.5476\n",
      "Epoch 35/100\n",
      "50000/50000 [==============================] - 2s 43us/sample - loss: 1.2923 - accuracy: 0.5468\n",
      "Epoch 36/100\n",
      "50000/50000 [==============================] - 2s 43us/sample - loss: 1.2878 - accuracy: 0.5490\n",
      "Epoch 37/100\n",
      "50000/50000 [==============================] - 2s 44us/sample - loss: 1.2859 - accuracy: 0.5494\n",
      "Epoch 38/100\n",
      "50000/50000 [==============================] - 2s 45us/sample - loss: 1.2846 - accuracy: 0.5513\n",
      "Epoch 39/100\n",
      "50000/50000 [==============================] - 2s 44us/sample - loss: 1.2843 - accuracy: 0.5507\n",
      "Epoch 40/100\n",
      "50000/50000 [==============================] - 2s 45us/sample - loss: 1.2815 - accuracy: 0.5512\n",
      "Epoch 41/100\n",
      "50000/50000 [==============================] - 2s 45us/sample - loss: 1.2839 - accuracy: 0.5512\n",
      "Epoch 42/100\n",
      "50000/50000 [==============================] - 2s 45us/sample - loss: 1.2771 - accuracy: 0.5530\n",
      "Epoch 43/100\n",
      "50000/50000 [==============================] - 2s 45us/sample - loss: 1.2759 - accuracy: 0.5532\n",
      "Epoch 44/100\n",
      "50000/50000 [==============================] - 2s 45us/sample - loss: 1.2738 - accuracy: 0.5550\n",
      "Epoch 45/100\n",
      "50000/50000 [==============================] - 2s 44us/sample - loss: 1.2751 - accuracy: 0.5556\n",
      "Epoch 46/100\n",
      "50000/50000 [==============================] - 2s 45us/sample - loss: 1.2714 - accuracy: 0.5550\n",
      "Epoch 47/100\n",
      "50000/50000 [==============================] - 2s 44us/sample - loss: 1.2733 - accuracy: 0.5556\n",
      "Epoch 48/100\n",
      "50000/50000 [==============================] - 2s 45us/sample - loss: 1.2686 - accuracy: 0.5564\n",
      "Epoch 49/100\n",
      "50000/50000 [==============================] - 2s 44us/sample - loss: 1.2695 - accuracy: 0.5569\n",
      "Epoch 50/100\n",
      "50000/50000 [==============================] - 2s 45us/sample - loss: 1.2688 - accuracy: 0.5566\n",
      "Epoch 51/100\n",
      "50000/50000 [==============================] - 2s 45us/sample - loss: 1.2683 - accuracy: 0.5558\n",
      "Epoch 52/100\n",
      "50000/50000 [==============================] - 2s 44us/sample - loss: 1.2650 - accuracy: 0.5583\n",
      "Epoch 53/100\n",
      "50000/50000 [==============================] - 2s 44us/sample - loss: 1.2655 - accuracy: 0.5586\n",
      "Epoch 54/100\n",
      "50000/50000 [==============================] - 2s 45us/sample - loss: 1.2661 - accuracy: 0.5576\n",
      "Epoch 55/100\n",
      "50000/50000 [==============================] - 2s 45us/sample - loss: 1.2640 - accuracy: 0.5576\n",
      "Epoch 56/100\n",
      "50000/50000 [==============================] - 2s 45us/sample - loss: 1.2605 - accuracy: 0.5593\n",
      "Epoch 57/100\n",
      "50000/50000 [==============================] - 2s 44us/sample - loss: 1.2609 - accuracy: 0.5602\n",
      "Epoch 58/100\n",
      "50000/50000 [==============================] - 2s 45us/sample - loss: 1.2610 - accuracy: 0.5586\n",
      "Epoch 59/100\n",
      "50000/50000 [==============================] - 2s 45us/sample - loss: 1.2575 - accuracy: 0.5610\n",
      "Epoch 60/100\n",
      "50000/50000 [==============================] - 2s 45us/sample - loss: 1.2560 - accuracy: 0.5623\n",
      "Epoch 61/100\n",
      "50000/50000 [==============================] - 2s 44us/sample - loss: 1.2579 - accuracy: 0.5599\n",
      "Epoch 62/100\n",
      "50000/50000 [==============================] - 2s 44us/sample - loss: 1.2554 - accuracy: 0.5607\n",
      "Epoch 63/100\n"
     ]
    },
    {
     "name": "stdout",
     "output_type": "stream",
     "text": [
      "50000/50000 [==============================] - 2s 45us/sample - loss: 1.2546 - accuracy: 0.5619\n",
      "Epoch 64/100\n",
      "50000/50000 [==============================] - 2s 44us/sample - loss: 1.2587 - accuracy: 0.5601\n",
      "Epoch 65/100\n",
      "50000/50000 [==============================] - 2s 44us/sample - loss: 1.2544 - accuracy: 0.5615\n",
      "Epoch 66/100\n",
      "50000/50000 [==============================] - 2s 45us/sample - loss: 1.2520 - accuracy: 0.5630\n",
      "Epoch 67/100\n",
      "50000/50000 [==============================] - 2s 45us/sample - loss: 1.2550 - accuracy: 0.5603\n",
      "Epoch 68/100\n",
      "50000/50000 [==============================] - 2s 45us/sample - loss: 1.2527 - accuracy: 0.5622\n",
      "Epoch 69/100\n",
      "50000/50000 [==============================] - 2s 45us/sample - loss: 1.2499 - accuracy: 0.5635\n",
      "Epoch 70/100\n",
      "50000/50000 [==============================] - 2s 44us/sample - loss: 1.2521 - accuracy: 0.5616\n",
      "Epoch 71/100\n",
      "50000/50000 [==============================] - 2s 44us/sample - loss: 1.2515 - accuracy: 0.5621\n",
      "Epoch 72/100\n",
      "50000/50000 [==============================] - 2s 44us/sample - loss: 1.2470 - accuracy: 0.5643\n",
      "Epoch 73/100\n",
      "50000/50000 [==============================] - 2s 44us/sample - loss: 1.2526 - accuracy: 0.5637\n",
      "Epoch 74/100\n",
      "50000/50000 [==============================] - 2s 44us/sample - loss: 1.2463 - accuracy: 0.5642\n",
      "Epoch 75/100\n",
      "50000/50000 [==============================] - 2s 45us/sample - loss: 1.2501 - accuracy: 0.5637\n",
      "Epoch 76/100\n",
      "50000/50000 [==============================] - 2s 45us/sample - loss: 1.2493 - accuracy: 0.5624\n",
      "Epoch 77/100\n",
      "50000/50000 [==============================] - 2s 44us/sample - loss: 1.2477 - accuracy: 0.5651\n",
      "Epoch 78/100\n",
      "50000/50000 [==============================] - 2s 44us/sample - loss: 1.2432 - accuracy: 0.5653\n",
      "Epoch 79/100\n",
      "50000/50000 [==============================] - 2s 44us/sample - loss: 1.2472 - accuracy: 0.5629\n",
      "Epoch 80/100\n",
      "50000/50000 [==============================] - 2s 44us/sample - loss: 1.2453 - accuracy: 0.5649\n",
      "Epoch 81/100\n",
      "50000/50000 [==============================] - 2s 45us/sample - loss: 1.2419 - accuracy: 0.5668\n",
      "Epoch 82/100\n",
      "50000/50000 [==============================] - 2s 44us/sample - loss: 1.2420 - accuracy: 0.5649\n",
      "Epoch 83/100\n",
      "50000/50000 [==============================] - 2s 45us/sample - loss: 1.2420 - accuracy: 0.5665\n",
      "Epoch 84/100\n",
      "50000/50000 [==============================] - 2s 45us/sample - loss: 1.2390 - accuracy: 0.5663\n",
      "Epoch 85/100\n",
      "50000/50000 [==============================] - 2s 45us/sample - loss: 1.2388 - accuracy: 0.5676\n",
      "Epoch 86/100\n",
      "50000/50000 [==============================] - 2s 44us/sample - loss: 1.2406 - accuracy: 0.5656\n",
      "Epoch 87/100\n",
      "50000/50000 [==============================] - 2s 44us/sample - loss: 1.2405 - accuracy: 0.5676\n",
      "Epoch 88/100\n",
      "50000/50000 [==============================] - 2s 45us/sample - loss: 1.2383 - accuracy: 0.5683\n",
      "Epoch 89/100\n",
      "50000/50000 [==============================] - 2s 45us/sample - loss: 1.2384 - accuracy: 0.5688\n",
      "Epoch 90/100\n",
      "50000/50000 [==============================] - 2s 44us/sample - loss: 1.2401 - accuracy: 0.5660\n",
      "Epoch 91/100\n",
      "50000/50000 [==============================] - 2s 45us/sample - loss: 1.2420 - accuracy: 0.5653\n",
      "Epoch 92/100\n",
      "50000/50000 [==============================] - 2s 44us/sample - loss: 1.2385 - accuracy: 0.5673\n",
      "Epoch 93/100\n",
      "50000/50000 [==============================] - 2s 45us/sample - loss: 1.2366 - accuracy: 0.5695\n",
      "Epoch 94/100\n",
      "50000/50000 [==============================] - 2s 45us/sample - loss: 1.2378 - accuracy: 0.5679\n",
      "Epoch 95/100\n",
      "50000/50000 [==============================] - 2s 45us/sample - loss: 1.2373 - accuracy: 0.5685\n",
      "Epoch 96/100\n",
      "50000/50000 [==============================] - 2s 44us/sample - loss: 1.2347 - accuracy: 0.5705\n",
      "Epoch 97/100\n",
      "50000/50000 [==============================] - 2s 44us/sample - loss: 1.2351 - accuracy: 0.5692\n",
      "Epoch 98/100\n",
      "50000/50000 [==============================] - 2s 44us/sample - loss: 1.2335 - accuracy: 0.5684\n",
      "Epoch 99/100\n",
      "50000/50000 [==============================] - 2s 45us/sample - loss: 1.2362 - accuracy: 0.5687\n",
      "Epoch 100/100\n",
      "50000/50000 [==============================] - 2s 44us/sample - loss: 1.2349 - accuracy: 0.5695\n"
     ]
    },
    {
     "data": {
      "text/plain": [
       "<tensorflow.python.keras.callbacks.History at 0x7f326019a278>"
      ]
     },
     "execution_count": 12,
     "metadata": {},
     "output_type": "execute_result"
    }
   ],
   "source": [
    "from tensorflow.keras.models import Sequential\n",
    "from tensorflow.keras.layers import Dense, Flatten, Conv2D, MaxPool2D\n",
    "\n",
    "model = Sequential()\n",
    "model.add(Conv2D(4, 7, input_shape=(32, 32, 3)))\n",
    "model.add(MaxPool2D())\n",
    "model.add(Conv2D(8, 4))\n",
    "model.add(MaxPool2D())\n",
    "model.add(Conv2D(16, 2))\n",
    "model.add(MaxPool2D())\n",
    "model.add(Flatten())\n",
    "model.add(Dense(units=10, activation='softmax'))\n",
    "\n",
    "print(model.summary())\n",
    "\n",
    "model.compile(loss='sparse_categorical_crossentropy', # sparse_categorical_crossentropy는 정답 포맷으로 integer를 받는다고 해요\n",
    "              optimizer='adam',\n",
    "              metrics=['accuracy'])\n",
    "\n",
    "model.fit(train_images, train_labels, epochs=100, batch_size=128)"
   ]
  },
  {
   "cell_type": "code",
   "execution_count": 13,
   "metadata": {},
   "outputs": [
    {
     "name": "stdout",
     "output_type": "stream",
     "text": [
      "(10000, 10)\n"
     ]
    },
    {
     "data": {
      "text/plain": [
       "0.5444"
      ]
     },
     "execution_count": 13,
     "metadata": {},
     "output_type": "execute_result"
    }
   ],
   "source": [
    "predictions = model.predict(test_images)\n",
    "print(predictions.shape) # 형태: (10000, 10)\n",
    "predicted_labels = np.argmax(predictions, axis=1) # 형태를 (10000, 10) 에서 (10000, 1)로 바꿈\n",
    "(predicted_labels == test_labels).mean()"
   ]
  }
 ],
 "metadata": {
  "kernelspec": {
   "display_name": "Python 3",
   "language": "python",
   "name": "python3"
  },
  "language_info": {
   "codemirror_mode": {
    "name": "ipython",
    "version": 3
   },
   "file_extension": ".py",
   "mimetype": "text/x-python",
   "name": "python",
   "nbconvert_exporter": "python",
   "pygments_lexer": "ipython3",
   "version": "3.6.9"
  }
 },
 "nbformat": 4,
 "nbformat_minor": 4
}
