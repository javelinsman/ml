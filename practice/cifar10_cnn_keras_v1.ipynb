{
 "cells": [
  {
   "cell_type": "code",
   "execution_count": 1,
   "metadata": {},
   "outputs": [],
   "source": [
    "from cifar10_cnn_keras_v1 import CNN, load_dataset\n",
    "\n",
    "(train_images, train_labels), (test_images, test_labels) = load_dataset()"
   ]
  },
  {
   "cell_type": "code",
   "execution_count": 2,
   "metadata": {},
   "outputs": [
    {
     "name": "stdout",
     "output_type": "stream",
     "text": [
      "Model: \"sequential\"\n",
      "_________________________________________________________________\n",
      "Layer (type)                 Output Shape              Param #   \n",
      "=================================================================\n",
      "conv2d (Conv2D)              (None, 26, 26, 4)         592       \n",
      "_________________________________________________________________\n",
      "max_pooling2d (MaxPooling2D) (None, 13, 13, 4)         0         \n",
      "_________________________________________________________________\n",
      "conv2d_1 (Conv2D)            (None, 10, 10, 8)         520       \n",
      "_________________________________________________________________\n",
      "max_pooling2d_1 (MaxPooling2 (None, 5, 5, 8)           0         \n",
      "_________________________________________________________________\n",
      "conv2d_2 (Conv2D)            (None, 4, 4, 16)          528       \n",
      "_________________________________________________________________\n",
      "max_pooling2d_2 (MaxPooling2 (None, 2, 2, 16)          0         \n",
      "_________________________________________________________________\n",
      "flatten (Flatten)            (None, 64)                0         \n",
      "_________________________________________________________________\n",
      "dense (Dense)                (None, 10)                650       \n",
      "=================================================================\n",
      "Total params: 2,290\n",
      "Trainable params: 2,290\n",
      "Non-trainable params: 0\n",
      "_________________________________________________________________\n"
     ]
    }
   ],
   "source": [
    "net = CNN()\n",
    "net.model.summary()"
   ]
  },
  {
   "cell_type": "code",
   "execution_count": 3,
   "metadata": {},
   "outputs": [
    {
     "name": "stdout",
     "output_type": "stream",
     "text": [
      "Train on 50000 samples\n",
      "Epoch 1/30\n",
      "50000/50000 [==============================] - 3s 69us/sample - loss: 2.0341 - accuracy: 0.2525\n",
      "Epoch 2/30\n",
      "50000/50000 [==============================] - 1s 25us/sample - loss: 1.7989 - accuracy: 0.3526\n",
      "Epoch 3/30\n",
      "50000/50000 [==============================] - 1s 26us/sample - loss: 1.7089 - accuracy: 0.3864\n",
      "Epoch 4/30\n",
      "50000/50000 [==============================] - 1s 25us/sample - loss: 1.6527 - accuracy: 0.4044\n",
      "Epoch 5/30\n",
      "50000/50000 [==============================] - 1s 25us/sample - loss: 1.6160 - accuracy: 0.4193\n",
      "Epoch 6/30\n",
      "50000/50000 [==============================] - 1s 25us/sample - loss: 1.5838 - accuracy: 0.4314\n",
      "Epoch 7/30\n",
      "50000/50000 [==============================] - 1s 25us/sample - loss: 1.5632 - accuracy: 0.4408\n",
      "Epoch 8/30\n",
      "50000/50000 [==============================] - 1s 26us/sample - loss: 1.5496 - accuracy: 0.4442\n",
      "Epoch 9/30\n",
      "50000/50000 [==============================] - 1s 25us/sample - loss: 1.5334 - accuracy: 0.4510\n",
      "Epoch 10/30\n",
      "50000/50000 [==============================] - 1s 25us/sample - loss: 1.5214 - accuracy: 0.4573\n",
      "Epoch 11/30\n",
      "50000/50000 [==============================] - 1s 26us/sample - loss: 1.5135 - accuracy: 0.4595\n",
      "Epoch 12/30\n",
      "50000/50000 [==============================] - 1s 25us/sample - loss: 1.5002 - accuracy: 0.4644\n",
      "Epoch 13/30\n",
      "50000/50000 [==============================] - 1s 26us/sample - loss: 1.4909 - accuracy: 0.4695\n",
      "Epoch 14/30\n",
      "50000/50000 [==============================] - 1s 26us/sample - loss: 1.4848 - accuracy: 0.4720\n",
      "Epoch 15/30\n",
      "50000/50000 [==============================] - 1s 25us/sample - loss: 1.4747 - accuracy: 0.4730\n",
      "Epoch 16/30\n",
      "50000/50000 [==============================] - 1s 25us/sample - loss: 1.4659 - accuracy: 0.4777\n",
      "Epoch 17/30\n",
      "50000/50000 [==============================] - 1s 26us/sample - loss: 1.4591 - accuracy: 0.4829\n",
      "Epoch 18/30\n",
      "50000/50000 [==============================] - 1s 25us/sample - loss: 1.4527 - accuracy: 0.4848\n",
      "Epoch 19/30\n",
      "50000/50000 [==============================] - 1s 25us/sample - loss: 1.4472 - accuracy: 0.4850\n",
      "Epoch 20/30\n",
      "50000/50000 [==============================] - 1s 25us/sample - loss: 1.4424 - accuracy: 0.4886\n",
      "Epoch 21/30\n",
      "50000/50000 [==============================] - 1s 25us/sample - loss: 1.4321 - accuracy: 0.4913\n",
      "Epoch 22/30\n",
      "50000/50000 [==============================] - 1s 25us/sample - loss: 1.4257 - accuracy: 0.4941\n",
      "Epoch 23/30\n",
      "50000/50000 [==============================] - 1s 25us/sample - loss: 1.4208 - accuracy: 0.4960\n",
      "Epoch 24/30\n",
      "50000/50000 [==============================] - 1s 26us/sample - loss: 1.4186 - accuracy: 0.4970\n",
      "Epoch 25/30\n",
      "50000/50000 [==============================] - 1s 25us/sample - loss: 1.4077 - accuracy: 0.5024\n",
      "Epoch 26/30\n",
      "50000/50000 [==============================] - 1s 25us/sample - loss: 1.4055 - accuracy: 0.5033\n",
      "Epoch 27/30\n",
      "50000/50000 [==============================] - 1s 25us/sample - loss: 1.4014 - accuracy: 0.5049\n",
      "Epoch 28/30\n",
      "50000/50000 [==============================] - 1s 25us/sample - loss: 1.3934 - accuracy: 0.5080\n",
      "Epoch 29/30\n",
      "50000/50000 [==============================] - 1s 25us/sample - loss: 1.3883 - accuracy: 0.5115\n",
      "Epoch 30/30\n",
      "50000/50000 [==============================] - 1s 25us/sample - loss: 1.3854 - accuracy: 0.5109\n"
     ]
    }
   ],
   "source": [
    "net.train(train_images, train_labels)"
   ]
  },
  {
   "cell_type": "code",
   "execution_count": 4,
   "metadata": {},
   "outputs": [
    {
     "name": "stdout",
     "output_type": "stream",
     "text": [
      "Accuracy: 0.4965\n"
     ]
    }
   ],
   "source": [
    "net.test(test_images, test_labels)"
   ]
  }
 ],
 "metadata": {
  "kernelspec": {
   "display_name": "Python 3",
   "language": "python",
   "name": "python3"
  },
  "language_info": {
   "codemirror_mode": {
    "name": "ipython",
    "version": 3
   },
   "file_extension": ".py",
   "mimetype": "text/x-python",
   "name": "python",
   "nbconvert_exporter": "python",
   "pygments_lexer": "ipython3",
   "version": "3.6.9"
  }
 },
 "nbformat": 4,
 "nbformat_minor": 4
}
